{
 "cells": [
  {
   "cell_type": "code",
   "execution_count": 1,
   "metadata": {},
   "outputs": [],
   "source": [
    "import pandas as pd\n",
    "\n",
    "# https://pypi.org/project/wordcloud/ to make the world cloud"
   ]
  },
  {
   "cell_type": "code",
   "execution_count": 2,
   "metadata": {},
   "outputs": [],
   "source": [
    "df = pd.read_csv('test.csv')"
   ]
  },
  {
   "cell_type": "code",
   "execution_count": 4,
   "metadata": {},
   "outputs": [
    {
     "data": {
      "text/html": [
       "<div>\n",
       "<style scoped>\n",
       "    .dataframe tbody tr th:only-of-type {\n",
       "        vertical-align: middle;\n",
       "    }\n",
       "\n",
       "    .dataframe tbody tr th {\n",
       "        vertical-align: top;\n",
       "    }\n",
       "\n",
       "    .dataframe thead th {\n",
       "        text-align: right;\n",
       "    }\n",
       "</style>\n",
       "<table border=\"1\" class=\"dataframe\">\n",
       "  <thead>\n",
       "    <tr style=\"text-align: right;\">\n",
       "      <th></th>\n",
       "      <th>Unnamed: 0</th>\n",
       "      <th>imported_timestamp</th>\n",
       "      <th>pub_date</th>\n",
       "      <th>placement</th>\n",
       "      <th>title</th>\n",
       "      <th>summary</th>\n",
       "    </tr>\n",
       "  </thead>\n",
       "  <tbody>\n",
       "    <tr>\n",
       "      <td>0</td>\n",
       "      <td>0</td>\n",
       "      <td>2020-03-25 05:54:46</td>\n",
       "      <td>Mar 24, 2020</td>\n",
       "      <td>headlines</td>\n",
       "      <td>Silvergate Bank Resolves Wire Transfer Issue T...</td>\n",
       "      <td>Crypto-friendly Silvergate Bank resolved the l...</td>\n",
       "    </tr>\n",
       "    <tr>\n",
       "      <td>1</td>\n",
       "      <td>1</td>\n",
       "      <td>2020-03-25 05:54:46</td>\n",
       "      <td>Mar 24, 2020</td>\n",
       "      <td>headlines</td>\n",
       "      <td>The CFTC Just Defined What ‘Actual Delivery’ o...</td>\n",
       "      <td>The CFTC created formal guidance for when one ...</td>\n",
       "    </tr>\n",
       "    <tr>\n",
       "      <td>2</td>\n",
       "      <td>2</td>\n",
       "      <td>2020-03-25 05:54:46</td>\n",
       "      <td>Mar 24, 2020</td>\n",
       "      <td>headlines</td>\n",
       "      <td>BitMEX Open Interest Collapses After Controver...</td>\n",
       "      <td>Open interest in XBT/USD on BitMEX has crashed...</td>\n",
       "    </tr>\n",
       "    <tr>\n",
       "      <td>3</td>\n",
       "      <td>3</td>\n",
       "      <td>2020-03-25 05:54:46</td>\n",
       "      <td>Mar 23, 2020</td>\n",
       "      <td>headlines</td>\n",
       "      <td>Bitcoin and Gold: Evaluating Hard-Cap Currenci...</td>\n",
       "      <td>How would a bitcoin economy react to coronavir...</td>\n",
       "    </tr>\n",
       "    <tr>\n",
       "      <td>4</td>\n",
       "      <td>4</td>\n",
       "      <td>2020-03-25 05:54:46</td>\n",
       "      <td>Mar 24, 2020</td>\n",
       "      <td>headlines</td>\n",
       "      <td>Yale Researchers Turn to Hyperledger to Track ...</td>\n",
       "      <td>A team from Yale's OpenLab has been exploring ...</td>\n",
       "    </tr>\n",
       "    <tr>\n",
       "      <td>5</td>\n",
       "      <td>5</td>\n",
       "      <td>2020-03-25 05:54:46</td>\n",
       "      <td>Feb 28, 2020</td>\n",
       "      <td>headlines</td>\n",
       "      <td>How to Contact CoinDesk’s Editors and Reporter...</td>\n",
       "      <td>We've made it a lot easier to reach us. Our ne...</td>\n",
       "    </tr>\n",
       "    <tr>\n",
       "      <td>6</td>\n",
       "      <td>0</td>\n",
       "      <td>2020-03-25 05:54:55</td>\n",
       "      <td>Mar 25, 2020</td>\n",
       "      <td>subarticles</td>\n",
       "      <td>Everledger Looks Beyond Blood Diamonds With ES...</td>\n",
       "      <td>Everledger, known for tracking diamonds on the...</td>\n",
       "    </tr>\n",
       "    <tr>\n",
       "      <td>7</td>\n",
       "      <td>1</td>\n",
       "      <td>2020-03-25 05:54:55</td>\n",
       "      <td>Mar 24, 2020</td>\n",
       "      <td>subarticles</td>\n",
       "      <td>Judge Halts Telegram Token Issuance in Injunct...</td>\n",
       "      <td>A federal judge has granted the SEC’s prelimin...</td>\n",
       "    </tr>\n",
       "    <tr>\n",
       "      <td>8</td>\n",
       "      <td>2</td>\n",
       "      <td>2020-03-25 05:54:55</td>\n",
       "      <td>Mar 24, 2020</td>\n",
       "      <td>subarticles</td>\n",
       "      <td>8 US States Follow DHS in Naming ‘Blockchain M...</td>\n",
       "      <td>At least eight U.S. states have directed “bloc...</td>\n",
       "    </tr>\n",
       "    <tr>\n",
       "      <td>9</td>\n",
       "      <td>3</td>\n",
       "      <td>2020-03-25 05:54:55</td>\n",
       "      <td>Mar 24, 2020</td>\n",
       "      <td>subarticles</td>\n",
       "      <td>Stocks, Bitcoin Rally on Prospects for US Sena...</td>\n",
       "      <td>Financial markets rebounded Tuesday after pros...</td>\n",
       "    </tr>\n",
       "    <tr>\n",
       "      <td>10</td>\n",
       "      <td>4</td>\n",
       "      <td>2020-03-25 05:54:55</td>\n",
       "      <td>Mar 24, 2020</td>\n",
       "      <td>subarticles</td>\n",
       "      <td>Cronyism, Zombie Companies and the True Cost o...</td>\n",
       "      <td>Why dependency culture, zombie corporations an...</td>\n",
       "    </tr>\n",
       "    <tr>\n",
       "      <td>11</td>\n",
       "      <td>5</td>\n",
       "      <td>2020-03-25 05:54:55</td>\n",
       "      <td>Mar 24, 2020</td>\n",
       "      <td>subarticles</td>\n",
       "      <td>The Pandemic Gives Digital Currencies Another ...</td>\n",
       "      <td>Which digital currencies are most useful in a ...</td>\n",
       "    </tr>\n",
       "    <tr>\n",
       "      <td>12</td>\n",
       "      <td>6</td>\n",
       "      <td>2020-03-25 05:54:55</td>\n",
       "      <td>Mar 24, 2020</td>\n",
       "      <td>subarticles</td>\n",
       "      <td>Bitcoin News Roundup for March 24, 2020</td>\n",
       "      <td>Will the US launch a digital dollar? And what ...</td>\n",
       "    </tr>\n",
       "    <tr>\n",
       "      <td>13</td>\n",
       "      <td>7</td>\n",
       "      <td>2020-03-25 05:54:55</td>\n",
       "      <td>Mar 24, 2020</td>\n",
       "      <td>subarticles</td>\n",
       "      <td>Russian Prime Minister Introduces Bill to Allo...</td>\n",
       "      <td>The new bill would allow the creation of “expe...</td>\n",
       "    </tr>\n",
       "    <tr>\n",
       "      <td>14</td>\n",
       "      <td>8</td>\n",
       "      <td>2020-03-25 05:54:55</td>\n",
       "      <td>Mar 24, 2020</td>\n",
       "      <td>subarticles</td>\n",
       "      <td>‘Digital Dollar’ Stripped From Latest US Coron...</td>\n",
       "      <td>The latest version of a U.S. House bill to sti...</td>\n",
       "    </tr>\n",
       "  </tbody>\n",
       "</table>\n",
       "</div>"
      ],
      "text/plain": [
       "    Unnamed: 0   imported_timestamp      pub_date    placement  \\\n",
       "0            0  2020-03-25 05:54:46  Mar 24, 2020    headlines   \n",
       "1            1  2020-03-25 05:54:46  Mar 24, 2020    headlines   \n",
       "2            2  2020-03-25 05:54:46  Mar 24, 2020    headlines   \n",
       "3            3  2020-03-25 05:54:46  Mar 23, 2020    headlines   \n",
       "4            4  2020-03-25 05:54:46  Mar 24, 2020    headlines   \n",
       "5            5  2020-03-25 05:54:46  Feb 28, 2020    headlines   \n",
       "6            0  2020-03-25 05:54:55  Mar 25, 2020  subarticles   \n",
       "7            1  2020-03-25 05:54:55  Mar 24, 2020  subarticles   \n",
       "8            2  2020-03-25 05:54:55  Mar 24, 2020  subarticles   \n",
       "9            3  2020-03-25 05:54:55  Mar 24, 2020  subarticles   \n",
       "10           4  2020-03-25 05:54:55  Mar 24, 2020  subarticles   \n",
       "11           5  2020-03-25 05:54:55  Mar 24, 2020  subarticles   \n",
       "12           6  2020-03-25 05:54:55  Mar 24, 2020  subarticles   \n",
       "13           7  2020-03-25 05:54:55  Mar 24, 2020  subarticles   \n",
       "14           8  2020-03-25 05:54:55  Mar 24, 2020  subarticles   \n",
       "\n",
       "                                                title  \\\n",
       "0   Silvergate Bank Resolves Wire Transfer Issue T...   \n",
       "1   The CFTC Just Defined What ‘Actual Delivery’ o...   \n",
       "2   BitMEX Open Interest Collapses After Controver...   \n",
       "3   Bitcoin and Gold: Evaluating Hard-Cap Currenci...   \n",
       "4   Yale Researchers Turn to Hyperledger to Track ...   \n",
       "5   How to Contact CoinDesk’s Editors and Reporter...   \n",
       "6   Everledger Looks Beyond Blood Diamonds With ES...   \n",
       "7   Judge Halts Telegram Token Issuance in Injunct...   \n",
       "8   8 US States Follow DHS in Naming ‘Blockchain M...   \n",
       "9   Stocks, Bitcoin Rally on Prospects for US Sena...   \n",
       "10  Cronyism, Zombie Companies and the True Cost o...   \n",
       "11  The Pandemic Gives Digital Currencies Another ...   \n",
       "12            Bitcoin News Roundup for March 24, 2020   \n",
       "13  Russian Prime Minister Introduces Bill to Allo...   \n",
       "14  ‘Digital Dollar’ Stripped From Latest US Coron...   \n",
       "\n",
       "                                              summary  \n",
       "0   Crypto-friendly Silvergate Bank resolved the l...  \n",
       "1   The CFTC created formal guidance for when one ...  \n",
       "2   Open interest in XBT/USD on BitMEX has crashed...  \n",
       "3   How would a bitcoin economy react to coronavir...  \n",
       "4   A team from Yale's OpenLab has been exploring ...  \n",
       "5   We've made it a lot easier to reach us. Our ne...  \n",
       "6   Everledger, known for tracking diamonds on the...  \n",
       "7   A federal judge has granted the SEC’s prelimin...  \n",
       "8   At least eight U.S. states have directed “bloc...  \n",
       "9   Financial markets rebounded Tuesday after pros...  \n",
       "10  Why dependency culture, zombie corporations an...  \n",
       "11  Which digital currencies are most useful in a ...  \n",
       "12  Will the US launch a digital dollar? And what ...  \n",
       "13  The new bill would allow the creation of “expe...  \n",
       "14  The latest version of a U.S. House bill to sti...  "
      ]
     },
     "execution_count": 4,
     "metadata": {},
     "output_type": "execute_result"
    }
   ],
   "source": [
    "df\n"
   ]
  },
  {
   "cell_type": "code",
   "execution_count": 6,
   "metadata": {},
   "outputs": [],
   "source": [
    "hld_str = \"\"\n",
    "for i,j in zip(df['title'],df['summary']):\n",
    "    hld_str += i\n",
    "    hld_str += j\n"
   ]
  },
  {
   "cell_type": "code",
   "execution_count": 7,
   "metadata": {},
   "outputs": [
    {
     "data": {
      "text/plain": [
       "\"Silvergate Bank Resolves Wire Transfer Issue That Kept Transactions in LimboCrypto-friendly Silvergate Bank resolved the last of its wire transfer issues Tuesday morning, said CEO Alan Lane.The CFTC Just Defined What ‘Actual Delivery’ of Crypto Should Look LikeThe CFTC created formal guidance for when one party has “delivered” crypto assets to another, settling a long-standing question around the issue.BitMEX Open Interest Collapses After Controversial Long SqueezeOpen interest in XBT/USD on BitMEX has crashed by over 50 percent from 115,000 BTC to 55,000 BTC over the past 12 days. Bitcoin and Gold: Evaluating Hard-Cap Currencies in Times of Financial CrisisHow would a bitcoin economy react to coronavirus? For now, we don’t know. However, we can turn to a proxy for insight: gold.Yale Researchers Turn to Hyperledger to Track Carbon EmissionsA team from Yale's OpenLab has been exploring how blockchain, IoT and other data-science tools can be used to measure and track carbon emissions.How to Contact CoinDesk’s Editors and Reporters (the Right Way)We've made it a lot easier to reach us. Our new masthead lists all CoinDesk reporters and editors, their beats and verified contact information.\\nEverledger Looks Beyond Blood Diamonds With ESG Supply Chain CollaborationEverledger, known for tracking diamonds on the blockchain, says the supply chain for batteries is where it will focus next.Judge Halts Telegram Token Issuance in Injunction Requested by SECA federal judge has granted the SEC’s preliminary injunction request, barring Telegram from issuing any gram tokens when it launches its blockchain network.8 US States Follow DHS in Naming ‘Blockchain Managers’ as Essential Employees in Coronavirus CrisisAt least eight U.S. states have directed “blockchain managers” in food and agriculture to keep working through COVID-19 shutdowns following guidance from the Department of Homeland Security, though it remains unclear who this includes.Stocks, Bitcoin Rally on Prospects for US Senate Stimulus BillFinancial markets rebounded Tuesday after prospects for a stimulus package out of the U.S. Senate improved. Most cryptocurrencies are gaining, too.Cronyism, Zombie Companies and the True Cost of the Coronavirus, Feat. Morgan Creek’s Mark YuskoWhy dependency culture, zombie corporations and debt jubilee could be the true cost of the coronavirus.The Pandemic Gives Digital Currencies Another Chance to ShineWhich digital currencies are most useful in a crisis, asks a Brazilian central banker. CBDCs, bitcoin or Libra?Bitcoin News Roundup for March 24, 2020Will the US launch a digital dollar? And what happens to racers when they can't race? Find out on CoinDesk's Markets Daily podcast.\\nRussian Prime Minister Introduces Bill to Allow Fintech Sandboxes, Blockchain IncludedThe new bill would allow the creation of “experimental regulatory regimes” for companies working on cutting-edge technologies like AI and distributed ledgers. ‘Digital Dollar’ Stripped From Latest US Coronavirus Relief BillThe latest version of a U.S. House bill to stimulate the economy during the coronavirus pandemic no longer includes any language around a digital dollar, though a Financial Services Committee bill still does.\""
      ]
     },
     "execution_count": 7,
     "metadata": {},
     "output_type": "execute_result"
    }
   ],
   "source": [
    "hld_str"
   ]
  },
  {
   "cell_type": "code",
   "execution_count": 8,
   "metadata": {},
   "outputs": [],
   "source": [
    "text_file =  text_file = open(\"sample.txt\", \"w\")"
   ]
  },
  {
   "cell_type": "code",
   "execution_count": 9,
   "metadata": {},
   "outputs": [
    {
     "data": {
      "text/plain": [
       "3226"
      ]
     },
     "execution_count": 9,
     "metadata": {},
     "output_type": "execute_result"
    }
   ],
   "source": [
    "text_file.write(hld_str)"
   ]
  },
  {
   "cell_type": "code",
   "execution_count": 10,
   "metadata": {},
   "outputs": [],
   "source": [
    "text_file.close()"
   ]
  },
  {
   "cell_type": "code",
   "execution_count": null,
   "metadata": {},
   "outputs": [],
   "source": []
  }
 ],
 "metadata": {
  "kernelspec": {
   "display_name": "Python 3",
   "language": "python",
   "name": "python3"
  },
  "language_info": {
   "codemirror_mode": {
    "name": "ipython",
    "version": 3
   },
   "file_extension": ".py",
   "mimetype": "text/x-python",
   "name": "python",
   "nbconvert_exporter": "python",
   "pygments_lexer": "ipython3",
   "version": "3.6.6"
  }
 },
 "nbformat": 4,
 "nbformat_minor": 2
}
